{
 "cells": [
  {
   "cell_type": "code",
   "execution_count": 8,
   "id": "55c7ebfc-2d43-40ee-a8ec-6df70339d8e8",
   "metadata": {},
   "outputs": [],
   "source": [
    "import numpy as np \n",
    "import pandas as pd\n",
    "import matplotlib.pyplot as plt\n",
    "from numpy import cos,sin\n",
    "import ipywidgets"
   ]
  },
  {
   "cell_type": "code",
   "execution_count": 9,
   "id": "293d97fe-f588-46bd-9453-9dd8db2d00bd",
   "metadata": {},
   "outputs": [],
   "source": [
    "z = []\n",
    "for i in range(-50,50):\n",
    "    for j in range(-50,50):\n",
    "        z.append((i,j))  "
   ]
  },
  {
   "cell_type": "code",
   "execution_count": 13,
   "id": "843cf12f-82f8-4b16-9516-fa72abb8fbb5",
   "metadata": {},
   "outputs": [],
   "source": [
    "def Matrix_Rotation(Multiply_x = 1,Multiply_y= 1,Rotate = 0):\n",
    "    A = [[Multiply_x,0],[0,Multiply_y]]\n",
    "    A = np.array(A)\n",
    "    Az = z @ A\n",
    "    Rotate = -Rotate*np.pi/180\n",
    "    R = [[cos(Rotate),sin(Rotate)],[-sin(Rotate),cos(Rotate)]]\n",
    "    R = np.array(R) \n",
    "    Az = (Az @ R)\n",
    "    plt.figure(figsize = (10,10))\n",
    "    plt.xlim(-100,100)\n",
    "    plt.ylim(-100,100)\n",
    "    plt.scatter(Az[:,0],Az[:,1],2)\n",
    "    Arrows = [[1,0],\n",
    "         [0,1]]\n",
    "    Arrows = Arrows @ A\n",
    "    Arrows = Arrows @ R\n",
    "    plt.arrow(0,0,Arrows[0,0]*10,Arrows[0,1]*10,head_length = 1,head_width = 1)\n",
    "    plt.arrow(0,0,Arrows[1,0]*10,Arrows[1,1]*10,head_length = 1,head_width = 1)"
   ]
  },
  {
   "cell_type": "code",
   "execution_count": 14,
   "id": "5e3597c3-85db-4634-b48d-94a2ddbe1ee5",
   "metadata": {},
   "outputs": [
    {
     "data": {
      "application/vnd.jupyter.widget-view+json": {
       "model_id": "fb902af009904ecc82b965a7812e1e4a",
       "version_major": 2,
       "version_minor": 0
      },
      "text/plain": [
       "interactive(children=(FloatSlider(value=1.0, description='Multiply_x', max=10.0, min=-10.0), FloatSlider(value…"
      ]
     },
     "metadata": {},
     "output_type": "display_data"
    },
    {
     "data": {
      "text/plain": [
       "<function __main__.Matrix_Rotation(Multiply_x=1, Multiply_y=1, Rotate=0)>"
      ]
     },
     "execution_count": 14,
     "metadata": {},
     "output_type": "execute_result"
    }
   ],
   "source": [
    "ipywidgets.interact(Matrix_Rotation,Multiply_x = (-10,10,0.1),Multiply_y= (-10,10,0.1),Rotate = (-360,360,1))"
   ]
  }
 ],
 "metadata": {
  "kernelspec": {
   "display_name": "Python 3 (ipykernel)",
   "language": "python",
   "name": "python3"
  },
  "language_info": {
   "codemirror_mode": {
    "name": "ipython",
    "version": 3
   },
   "file_extension": ".py",
   "mimetype": "text/x-python",
   "name": "python",
   "nbconvert_exporter": "python",
   "pygments_lexer": "ipython3",
   "version": "3.9.10"
  }
 },
 "nbformat": 4,
 "nbformat_minor": 5
}
