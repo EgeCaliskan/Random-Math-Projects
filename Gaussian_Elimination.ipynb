{
 "cells": [
  {
   "cell_type": "code",
   "execution_count": 84,
   "metadata": {},
   "outputs": [],
   "source": [
    "import numpy as np\n",
    "import ipywidgets as widgets"
   ]
  },
  {
   "cell_type": "code",
   "execution_count": 85,
   "metadata": {},
   "outputs": [],
   "source": [
    "def get_grid(n,m,w):\n",
    "    grid = widgets.GridspecLayout(n,m,width = str(w*(m+2))+\"px\")\n",
    "    d = {}\n",
    "    d[\"n\"] = widgets.IntSlider(value = n)\n",
    "    d[\"m\"] = widgets.IntSlider(value = m)\n",
    "    for i in range(n):\n",
    "        for j in range(m):\n",
    "            d[\"a\" + str(i) + str(j)] = widgets.IntText(layout = widgets.Layout(width = str(w) + \"px\"))\n",
    "            grid[i,j] = d[\"a\" + str(i) + str(j)]\n",
    "    return d, grid"
   ]
  },
  {
   "cell_type": "code",
   "execution_count": 86,
   "metadata": {},
   "outputs": [],
   "source": [
    "def get_matrix(n,m,**kwargs):\n",
    "    a = np.array(object = np.zeros(shape = (n,m)))\n",
    "    k = 0\n",
    "    arg = []\n",
    "    for value in kwargs.items():\n",
    "        arg.append(value[1])\n",
    "    for i in range(n):\n",
    "        for j in range(m):\n",
    "            a[i,j] = arg[k]\n",
    "            k+=1\n",
    "    return gauss_elimination(n,m,a)"
   ]
  },
  {
   "cell_type": "code",
   "execution_count": 87,
   "metadata": {},
   "outputs": [],
   "source": [
    "def gauss_elimination(n,m,a):\n",
    "    if (a == np.zeros((n,m))).all():\n",
    "        print(\"Enter Augmented Matrix\")\n",
    "        return a\n",
    "    i = 0\n",
    "    j = 0\n",
    "    step = 1\n",
    "    #Setting Row Echelon Form\n",
    "    laststep = a.copy()\n",
    "    while(i<n and j <m):\n",
    "        if(a[i,j]!= 0):\n",
    "            a[i] = a[i] / a[i,j]\n",
    "            if((a!=laststep).any()):\n",
    "                print(\"Step\",step,\":\\n\",a)\n",
    "                step = step+1\n",
    "                laststep = a.copy()\n",
    "        for k in range(i+1,n):\n",
    "            if a[k,j]!=0:\n",
    "                a[k] = a[k] - a[i]*a[k,j]/a[i,j]\n",
    "                \n",
    "        i = i+1 \n",
    "        j = j+1\n",
    "        if((a!=laststep).any()):\n",
    "            print(\"Step\",step,\":\\n\",a)\n",
    "            step = step+1\n",
    "            laststep = a.copy()\n",
    "    #Setting Reduced Row Echelon Form\n",
    "    i = min(n,m) -1 \n",
    "    j = min(n,m) -1\n",
    "    while(i>=0 and j>=0):\n",
    "        for k in range(i-1,-1,-1):\n",
    "            if a[i,j]!= 0:\n",
    "                a[k] = a[k] - a[i] * a[k,j]/a[i,j]\n",
    "        i = i-1 \n",
    "        j = j-1 \n",
    "        if((a!=laststep).any()):\n",
    "            print(\"Step\",step,\":\\n\",a)\n",
    "            step = step+1\n",
    "            laststep = a.copy()\n",
    "    return a"
   ]
  },
  {
   "cell_type": "code",
   "execution_count": 88,
   "metadata": {},
   "outputs": [],
   "source": [
    "n = 3 # Row Count\n",
    "m = 4 # Column Count\n",
    "w = 50 # Width Of Input Boxes\n",
    "d,grid = get_grid(n,m,w)"
   ]
  },
  {
   "cell_type": "code",
   "execution_count": 89,
   "metadata": {},
   "outputs": [
    {
     "data": {
      "application/vnd.jupyter.widget-view+json": {
       "model_id": "ac9bb1bf8b074db18c80fcc4f27ef5ce",
       "version_major": 2,
       "version_minor": 0
      },
      "text/plain": [
       "Output()"
      ]
     },
     "metadata": {},
     "output_type": "display_data"
    },
    {
     "data": {
      "application/vnd.jupyter.widget-view+json": {
       "model_id": "d48c92bb27e9470dba3e018624852d9f",
       "version_major": 2,
       "version_minor": 0
      },
      "text/plain": [
       "GridspecLayout(children=(IntText(value=0, layout=Layout(grid_area='widget001', width='50px')), IntText(value=0…"
      ]
     },
     "metadata": {},
     "output_type": "display_data"
    }
   ],
   "source": [
    "out = widgets.interactive_output(get_matrix,d)\n",
    "display(out,grid)"
   ]
  },
  {
   "cell_type": "code",
   "execution_count": null,
   "metadata": {},
   "outputs": [],
   "source": []
  }
 ],
 "metadata": {
  "kernelspec": {
   "display_name": "Python 3.9.10 64-bit",
   "language": "python",
   "name": "python3"
  },
  "language_info": {
   "codemirror_mode": {
    "name": "ipython",
    "version": 3
   },
   "file_extension": ".py",
   "mimetype": "text/x-python",
   "name": "python",
   "nbconvert_exporter": "python",
   "pygments_lexer": "ipython3",
   "version": "3.9.10"
  },
  "orig_nbformat": 4,
  "vscode": {
   "interpreter": {
    "hash": "bfd94f9c81138325f29c14da9bd682fc604aff2cec7423962b3749e5caa2cbd7"
   }
  }
 },
 "nbformat": 4,
 "nbformat_minor": 2
}
